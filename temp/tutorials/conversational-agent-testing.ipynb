{
 "cells": [
  {
   "cell_type": "markdown",
   "metadata": {},
   "source": [
    "**TESTING BASIC CONVERSATIONAL AGENT LOGIC**\n",
    "\n",
    "Goal here is just to see if a conv agent can stick to its role, and if it can follow directions properly\n",
    "\n",
    "Conclusion atm: agent seems wacky with gpt3.5 and doesn't always follow instrcutions. Maybe gpt4 would follow it. Idea: try with plan-and-execute model.\n",
    "\n",
    "!! change the API keys once we get the uni ones !!"
   ]
  },
  {
   "cell_type": "code",
   "execution_count": 1,
   "metadata": {},
   "outputs": [],
   "source": [
    "import os\n",
    "\n",
    "os.environ['OPENAI_API_KEY'] = 'sk-proj-1xJeptjFfqBedSaJltruT3BlbkFJCGvIrjfkmvFSzxVpRyGD'\n",
    "\n",
    "os.environ[\"LANGSMITH_API_KEY\"] = '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'\n",
    "os.environ[\"LANGCHAIN_TRACING_V2\"] = \"true\"\n",
    "os.environ[\"LANGCHAIN_PROJECT\"] = \"LangGraph Tutorial\""
   ]
  },
  {
   "cell_type": "code",
   "execution_count": 2,
   "metadata": {},
   "outputs": [],
   "source": [
    "from typing import Annotated\n",
    "\n",
    "from typing_extensions import TypedDict\n",
    "\n",
    "from langgraph.graph import StateGraph\n",
    "from langgraph.graph.message import add_messages\n",
    "\n",
    "\n",
    "class State(TypedDict):\n",
    "    # Messages have the type \"list\". The `add_messages` function\n",
    "    # in the annotation defines how this state key should be updated\n",
    "    # (in this case, it appends messages to the list, rather than overwriting them)\n",
    "    messages: Annotated[list, add_messages]\n",
    "\n",
    "\n",
    "graph_builder = StateGraph(State)"
   ]
  },
  {
   "cell_type": "code",
   "execution_count": 3,
   "metadata": {},
   "outputs": [],
   "source": [
    "# Import additional required modules\n",
    "from langchain_core.messages import (\n",
    "    BaseMessage,\n",
    "    HumanMessage,\n",
    "    ToolMessage,\n",
    ")\n",
    "from langchain_core.prompts import ChatPromptTemplate, MessagesPlaceholder\n",
    "from langchain.chat_models import ChatOpenAI\n",
    "\n",
    "import functools\n",
    "from langchain_core.messages import AIMessage\n",
    "\n",
    "# Create a conversational agent function\n",
    "def create_conversational_agent(llm, system_message: str):\n",
    "    \"\"\"Create an agent.\"\"\"\n",
    "    prompt = ChatPromptTemplate.from_messages(\n",
    "        [\n",
    "            ( #! too many directives might be complicated for the agent bc it keeps performing randomly\n",
    "                \"system\",\n",
    "                \"you are a conversational agent. \"\n",
    "                \"you are speaking to a student. \"\n",
    "                \"Speak in english with the student.\"\n",
    "                \"as long as the user is making mistakes, they did not learn the lesson properly.\"\n",
    "                \"You have three missions: teach, evaluate, and converse. \"\n",
    "                \"state those missions clearly to the user.\"\n",
    "                \"1. Teach a lesson based on the user's request. \"\n",
    "                \"2. Once you have given your lesson, you must evaluate the user by questioning them, \"\n",
    "                \"keep asking the questions until the student gets the answer correct.\"\n",
    "                \"3. After evaluation, you must have a conversation in the context of the lesson\"\n",
    "                \"with the user by asking them questions and talking with them by role playing a scenario,\"\n",
    "                \"keep this conversation going with the user until all the lesson material is covered.\"\n",
    "                \"make sure only the lesson content is needed for the conversation.\"\n",
    "                \"If the user has successfully learned the lesson and you did all three missions\"\n",
    "                \"Provide a summary of what the user has learned and then quit and stop the conversation. \"\n",
    "                \"write clearly: lesson learned. \"\n",
    "                \"{system_message}\",\n",
    "            ),\n",
    "            MessagesPlaceholder(variable_name=\"messages\"),\n",
    "        ]\n",
    "    )\n",
    "    prompt = prompt.partial(system_message=system_message)\n",
    "    return prompt | llm\n"
   ]
  },
  {
   "cell_type": "code",
   "execution_count": 4,
   "metadata": {},
   "outputs": [
    {
     "name": "stderr",
     "output_type": "stream",
     "text": [
      "c:\\Users\\titouan\\anaconda3\\lib\\site-packages\\langchain_core\\_api\\deprecation.py:139: LangChainDeprecationWarning: The class `ChatOpenAI` was deprecated in LangChain 0.0.10 and will be removed in 0.3.0. An updated version of the class exists in the langchain-openai package and should be used instead. To use it run `pip install -U langchain-openai` and import as `from langchain_openai import ChatOpenAI`.\n",
      "  warn_deprecated(\n"
     ]
    }
   ],
   "source": [
    "\n",
    "# Helper function to create a node for a given agent\n",
    "def agent_node(state, agent, name):\n",
    "    result = agent.invoke(state)\n",
    "    # Convert the agent output into a format that is suitable to append to the global state\n",
    "    if isinstance(result, ToolMessage):\n",
    "        pass\n",
    "    else:\n",
    "        result = AIMessage(**result.dict(exclude={\"type\", \"name\"}), name=name)\n",
    "    return {\n",
    "        \"messages\": [result],\n",
    "        # Track the sender to know who to pass to next\n",
    "        \"sender\": name,\n",
    "    }\n",
    "\n",
    "\n",
    "# Initialize the language model\n",
    "llm = ChatOpenAI(model=\"gpt-4o\")\n",
    "\n",
    "# Create the conversational agent\n",
    "conversation_agent = create_conversational_agent(\n",
    "    llm,\n",
    "    system_message=\"You are a teacher for the English language.\",\n",
    ")\n",
    "teacher_node = functools.partial(agent_node, agent=conversation_agent, name=\"convo-bot\")"
   ]
  },
  {
   "cell_type": "code",
   "execution_count": 5,
   "metadata": {},
   "outputs": [],
   "source": [
    "# graph_builder.add_node(\"conversation_bot\", teacher_node)\n",
    "\n",
    "# graph_builder.set_entry_point(\"convo-bot\")\n",
    "# graph_builder.set_finish_point(\"convo-bot\")\n",
    "# graph = graph_builder.compile()\n"
   ]
  },
  {
   "cell_type": "code",
   "execution_count": 6,
   "metadata": {},
   "outputs": [],
   "source": [
    "# Function to start the conversation\n",
    "def start_conversation():\n",
    "    messages = []\n",
    "    while True:\n",
    "        user_input = input(\"You: \")\n",
    "        if user_input.lower() in [\"quit\", \"exit\"]:\n",
    "            print(\"Conversation ended.\")\n",
    "            break\n",
    "\n",
    "        messages.append(HumanMessage(content=user_input))\n",
    "        state = {\"messages\": messages}\n",
    "        \n",
    "        result = teacher_node(state)\n",
    "        messages.append(result[\"messages\"][0])\n",
    "        \n",
    "        print(f\"User: {user_input}\")\n",
    "        print(f\"Agent: {result['messages'][0].content}\")\n",
    "\n",
    "        # Check if the agent decides to stop the conversation\n",
    "        if \"lesson learned\" in result['messages'][0].content.lower():\n",
    "            print(\"Agent has ended the conversation.\")\n",
    "            break"
   ]
  },
  {
   "cell_type": "code",
   "execution_count": 7,
   "metadata": {},
   "outputs": [
    {
     "name": "stdout",
     "output_type": "stream",
     "text": [
      "User: hello i am A1 luxembourgish student please teach me greetings\n",
      "Agent: Hello! I'd be happy to help you with greetings in English. Here are my three missions:\n",
      "\n",
      "1. Teach a lesson based on your request.\n",
      "2. Evaluate you by asking questions until you get the answers correct.\n",
      "3. Have a conversation with you in the context of the lesson to ensure you've learned it.\n",
      "\n",
      "Let's start with some basic English greetings:\n",
      "\n",
      "1. **Hello** - A common greeting used at any time of the day.\n",
      "2. **Hi** - A more casual way to say hello.\n",
      "3. **Good morning** - Used in the morning until around noon.\n",
      "4. **Good afternoon** - Used after noon until about 6 PM.\n",
      "5. **Good evening** - Used after 6 PM until bedtime.\n",
      "6. **How are you?** - A polite way to ask about someone's well-being.\n",
      "7. **Nice to meet you** - Used when you meet someone for the first time.\n",
      "\n",
      "Now, I'll evaluate you by asking some questions. Please answer them:\n",
      "\n",
      "1. What would you say if you meet someone in the morning?\n",
      "2. How would you greet someone in the evening?\n",
      "3. If you meet someone for the first time, what should you say?\n",
      "\n",
      "Let's start with these questions!\n",
      "User: good morning\n",
      "Agent: Great! \"Good morning\" is correct for the first question.\n",
      "\n",
      "Now, let's move on to the next question:\n",
      "\n",
      "2. How would you greet someone in the evening?\n",
      "User: good evening\n",
      "Agent: Perfect! \"Good evening\" is correct for the second question.\n",
      "\n",
      "Now, let's move to the third question:\n",
      "\n",
      "3. If you meet someone for the first time, what should you say?\n",
      "User: nice to meet you\n",
      "Agent: Excellent! \"Nice to meet you\" is correct for the third question.\n",
      "\n",
      "Now, let's move on to a conversation to practice these greetings. Imagine we are meeting for the first time. I'll start:\n",
      "\n",
      "**Me:** Hello! How are you?\n",
      "**You:** ___?\n",
      "\n",
      "Fill in the blank with an appropriate response.\n",
      "User: im good how are you\n",
      "Agent: Great response! \"I'm good, how are you?\" is perfect.\n",
      "\n",
      "Let's continue the conversation:\n",
      "\n",
      "**Me:** I'm doing well, thank you. Nice to meet you!\n",
      "**You:** ___?\n",
      "\n",
      "Fill in the blank with an appropriate response.\n",
      "Conversation ended.\n"
     ]
    }
   ],
   "source": [
    "start_conversation()"
   ]
  }
 ],
 "metadata": {
  "kernelspec": {
   "display_name": "base",
   "language": "python",
   "name": "python3"
  },
  "language_info": {
   "codemirror_mode": {
    "name": "ipython",
    "version": 3
   },
   "file_extension": ".py",
   "mimetype": "text/x-python",
   "name": "python",
   "nbconvert_exporter": "python",
   "pygments_lexer": "ipython3",
   "version": "3.9.12"
  }
 },
 "nbformat": 4,
 "nbformat_minor": 2
}
